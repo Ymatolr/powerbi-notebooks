{
 "cells": [
  {
   "cell_type": "code",
   "execution_count": 1,
   "id": "70a02fdc-bd82-4447-811e-5cca667e48f6",
   "metadata": {
    "microsoft": {
     "language": "python",
     "language_group": "synapse_pyspark"
    }
   },
   "outputs": [
    {
     "data": {
      "application/vnd.livy.statement-meta+json": {
       "execution_finish_time": "2025-08-02T03:33:26.4019286Z",
       "execution_start_time": "2025-08-02T03:33:23.2187Z",
       "livy_statement_state": "available",
       "normalized_state": "finished",
       "parent_msg_id": "d73ab13d-6158-49ac-8aaa-f36a7bc1d1e7",
       "queued_time": "2025-08-02T03:33:11.6203251Z",
       "session_id": "a5667235-a044-4821-8f0c-38ee087a8c2b",
       "session_start_time": "2025-08-02T03:33:11.6212713Z",
       "spark_pool": null,
       "state": "finished",
       "statement_id": 3,
       "statement_ids": [
        3
       ]
      },
      "text/plain": [
       "StatementMeta(, a5667235-a044-4821-8f0c-38ee087a8c2b, 3, Finished, Available, Finished)"
      ]
     },
     "metadata": {},
     "output_type": "display_data"
    }
   ],
   "source": [
    "import requests\n",
    "import msal\n",
    "import csv\n",
    "import pandas as pd\n",
    "from pyspark.sql import SparkSession"
   ]
  },
  {
   "cell_type": "code",
   "execution_count": null,
   "id": "31dca250-1941-4fdc-ac25-e9816885154d",
   "metadata": {
    "microsoft": {
     "language": "python",
     "language_group": "synapse_pyspark"
    }
   },
   "outputs": [
    {
     "data": {
      "application/vnd.livy.statement-meta+json": {
       "execution_finish_time": "2025-08-02T03:33:28.1810577Z",
       "execution_start_time": "2025-08-02T03:33:26.4041416Z",
       "livy_statement_state": "available",
       "normalized_state": "finished",
       "parent_msg_id": "02f73d51-75a4-48e3-ab8e-e7edcbfadf62",
       "queued_time": "2025-08-02T03:33:25.7681605Z",
       "session_id": "a5667235-a044-4821-8f0c-38ee087a8c2b",
       "session_start_time": null,
       "spark_pool": null,
       "state": "finished",
       "statement_id": 4,
       "statement_ids": [
        4
       ]
      },
      "text/plain": [
       "StatementMeta(, a5667235-a044-4821-8f0c-38ee087a8c2b, 4, Finished, Available, Finished)"
      ]
     },
     "metadata": {},
     "output_type": "display_data"
    },
    {
     "ename": "ValueError",
     "evalue": "Unable to get authority configuration for https://login.microsoftonline.com/XXXXXXXXXXXxxxxx. Authority would typically be in a format of https://login.microsoftonline.com/your_tenant Also please double check your tenant name or GUID is correct.",
     "output_type": "error",
     "traceback": [
      "\u001b[0;31m---------------------------------------------------------------------------\u001b[0m",
      "\u001b[0;31mValueError\u001b[0m                                Traceback (most recent call last)",
      "File \u001b[0;32m~/cluster-env/trident_env/lib/python3.11/site-packages/msal/authority.py:115\u001b[0m, in \u001b[0;36mAuthority.__init__\u001b[0;34m(self, authority_url, http_client, validate_authority, instance_discovery)\u001b[0m\n\u001b[1;32m    114\u001b[0m \u001b[38;5;28;01mtry\u001b[39;00m:\n\u001b[0;32m--> 115\u001b[0m     openid_config \u001b[38;5;241m=\u001b[39m tenant_discovery(\n\u001b[1;32m    116\u001b[0m         tenant_discovery_endpoint,\n\u001b[1;32m    117\u001b[0m         \u001b[38;5;28mself\u001b[39m\u001b[38;5;241m.\u001b[39m_http_client)\n\u001b[1;32m    118\u001b[0m \u001b[38;5;28;01mexcept\u001b[39;00m \u001b[38;5;167;01mValueError\u001b[39;00m:\n",
      "File \u001b[0;32m~/cluster-env/trident_env/lib/python3.11/site-packages/msal/authority.py:186\u001b[0m, in \u001b[0;36mtenant_discovery\u001b[0;34m(tenant_discovery_endpoint, http_client, **kwargs)\u001b[0m\n\u001b[1;32m    183\u001b[0m \u001b[38;5;28;01mif\u001b[39;00m \u001b[38;5;241m400\u001b[39m \u001b[38;5;241m<\u001b[39m\u001b[38;5;241m=\u001b[39m resp\u001b[38;5;241m.\u001b[39mstatus_code \u001b[38;5;241m<\u001b[39m \u001b[38;5;241m500\u001b[39m:\n\u001b[1;32m    184\u001b[0m     \u001b[38;5;66;03m# Nonexist tenant would hit this path\u001b[39;00m\n\u001b[1;32m    185\u001b[0m     \u001b[38;5;66;03m# e.g. https://login.microsoftonline.com/nonexist_tenant/v2.0/.well-known/openid-configuration\u001b[39;00m\n\u001b[0;32m--> 186\u001b[0m     \u001b[38;5;28;01mraise\u001b[39;00m \u001b[38;5;167;01mValueError\u001b[39;00m(\u001b[38;5;124m\"\u001b[39m\u001b[38;5;124mOIDC Discovery failed on \u001b[39m\u001b[38;5;132;01m{}\u001b[39;00m\u001b[38;5;124m. HTTP status: \u001b[39m\u001b[38;5;132;01m{}\u001b[39;00m\u001b[38;5;124m, Error: \u001b[39m\u001b[38;5;132;01m{}\u001b[39;00m\u001b[38;5;124m\"\u001b[39m\u001b[38;5;241m.\u001b[39mformat(\n\u001b[1;32m    187\u001b[0m         tenant_discovery_endpoint,\n\u001b[1;32m    188\u001b[0m         resp\u001b[38;5;241m.\u001b[39mstatus_code,\n\u001b[1;32m    189\u001b[0m         resp\u001b[38;5;241m.\u001b[39mtext,  \u001b[38;5;66;03m# Expose it as-is b/c OIDC defines no error response format\u001b[39;00m\n\u001b[1;32m    190\u001b[0m         ))\n\u001b[1;32m    191\u001b[0m \u001b[38;5;66;03m# Transient network error would hit this path\u001b[39;00m\n",
      "\u001b[0;31mValueError\u001b[0m: OIDC Discovery failed on https://login.microsoftonline.com/XXXXXXXXXXXxxxxx/v2.0/.well-known/openid-configuration. HTTP status: 400, Error: {\"error\":\"invalid_tenant\",\"error_description\":\"AADSTS90002: Tenant 'xxxxxxxxxxxxxxxx' not found. Check to make sure you have the correct tenant ID and are signing into the correct cloud. Check with your subscription administrator, this may happen if there are no active subscriptions for the tenant. Trace ID: 5dcb649d-16ec-4a37-8c98-3ac5ebcd0100 Correlation ID: ec6a671b-d441-490e-8fa7-e61db4116d31 Timestamp: 2025-08-02 03:33:27Z\",\"error_codes\":[90002],\"timestamp\":\"2025-08-02 03:33:27Z\",\"trace_id\":\"5dcb649d-16ec-4a37-8c98-3ac5ebcd0100\",\"correlation_id\":\"ec6a671b-d441-490e-8fa7-e61db4116d31\",\"error_uri\":\"https://login.microsoftonline.com/error?code=90002\"}",
      "\nDuring handling of the above exception, another exception occurred:\n",
      "\u001b[0;31mValueError\u001b[0m                                Traceback (most recent call last)",
      "Cell \u001b[0;32mIn[11], line 14\u001b[0m\n\u001b[1;32m     10\u001b[0m api_base1 \u001b[38;5;241m=\u001b[39m \u001b[38;5;124m\"\u001b[39m\u001b[38;5;124mhttps://api.fabric.microsoft.com/v1/workspaces\u001b[39m\u001b[38;5;124m\"\u001b[39m\n\u001b[1;32m     11\u001b[0m \u001b[38;5;66;03m#\"https://api.fabric.microsoft.com/v1/workspaces/{workspaceId}/notebooks\"\u001b[39;00m\n\u001b[1;32m     12\u001b[0m \n\u001b[1;32m     13\u001b[0m \u001b[38;5;66;03m# ----------- AUTHENTICATION ----------- #\u001b[39;00m\n\u001b[0;32m---> 14\u001b[0m app \u001b[38;5;241m=\u001b[39m msal\u001b[38;5;241m.\u001b[39mConfidentialClientApplication(\n\u001b[1;32m     15\u001b[0m     client_id, authority\u001b[38;5;241m=\u001b[39mauthority, client_credential\u001b[38;5;241m=\u001b[39mclient_secret\n\u001b[1;32m     16\u001b[0m )\n\u001b[1;32m     17\u001b[0m token_result \u001b[38;5;241m=\u001b[39m app\u001b[38;5;241m.\u001b[39macquire_token_for_client(scopes\u001b[38;5;241m=\u001b[39mscope)\n\u001b[1;32m     18\u001b[0m access_token \u001b[38;5;241m=\u001b[39m token_result[\u001b[38;5;124m'\u001b[39m\u001b[38;5;124maccess_token\u001b[39m\u001b[38;5;124m'\u001b[39m]\n",
      "File \u001b[0;32m~/cluster-env/trident_env/lib/python3.11/site-packages/msal/application.py:529\u001b[0m, in \u001b[0;36mClientApplication.__init__\u001b[0;34m(self, client_id, client_credential, authority, validate_authority, token_cache, http_client, verify, proxies, timeout, client_claims, app_name, app_version, client_capabilities, azure_region, exclude_scopes, http_cache, instance_discovery, allow_broker, enable_pii_log)\u001b[0m\n\u001b[1;32m    527\u001b[0m \u001b[38;5;28;01mtry\u001b[39;00m:\n\u001b[1;32m    528\u001b[0m     authority_to_use \u001b[38;5;241m=\u001b[39m authority \u001b[38;5;129;01mor\u001b[39;00m \u001b[38;5;124m\"\u001b[39m\u001b[38;5;124mhttps://\u001b[39m\u001b[38;5;132;01m{}\u001b[39;00m\u001b[38;5;124m/common/\u001b[39m\u001b[38;5;124m\"\u001b[39m\u001b[38;5;241m.\u001b[39mformat(WORLD_WIDE)\n\u001b[0;32m--> 529\u001b[0m     \u001b[38;5;28mself\u001b[39m\u001b[38;5;241m.\u001b[39mauthority \u001b[38;5;241m=\u001b[39m Authority(\n\u001b[1;32m    530\u001b[0m         authority_to_use,\n\u001b[1;32m    531\u001b[0m         \u001b[38;5;28mself\u001b[39m\u001b[38;5;241m.\u001b[39mhttp_client,\n\u001b[1;32m    532\u001b[0m         validate_authority\u001b[38;5;241m=\u001b[39mvalidate_authority,\n\u001b[1;32m    533\u001b[0m         instance_discovery\u001b[38;5;241m=\u001b[39m\u001b[38;5;28mself\u001b[39m\u001b[38;5;241m.\u001b[39m_instance_discovery,\n\u001b[1;32m    534\u001b[0m         )\n\u001b[1;32m    535\u001b[0m \u001b[38;5;28;01mexcept\u001b[39;00m \u001b[38;5;167;01mValueError\u001b[39;00m:  \u001b[38;5;66;03m# Those are explicit authority validation errors\u001b[39;00m\n\u001b[1;32m    536\u001b[0m     \u001b[38;5;28;01mraise\u001b[39;00m\n",
      "File \u001b[0;32m~/cluster-env/trident_env/lib/python3.11/site-packages/msal/authority.py:119\u001b[0m, in \u001b[0;36mAuthority.__init__\u001b[0;34m(self, authority_url, http_client, validate_authority, instance_discovery)\u001b[0m\n\u001b[1;32m    115\u001b[0m     openid_config \u001b[38;5;241m=\u001b[39m tenant_discovery(\n\u001b[1;32m    116\u001b[0m         tenant_discovery_endpoint,\n\u001b[1;32m    117\u001b[0m         \u001b[38;5;28mself\u001b[39m\u001b[38;5;241m.\u001b[39m_http_client)\n\u001b[1;32m    118\u001b[0m \u001b[38;5;28;01mexcept\u001b[39;00m \u001b[38;5;167;01mValueError\u001b[39;00m:\n\u001b[0;32m--> 119\u001b[0m     \u001b[38;5;28;01mraise\u001b[39;00m \u001b[38;5;167;01mValueError\u001b[39;00m(\n\u001b[1;32m    120\u001b[0m         \u001b[38;5;124m\"\u001b[39m\u001b[38;5;124mUnable to get authority configuration for \u001b[39m\u001b[38;5;132;01m{}\u001b[39;00m\u001b[38;5;124m. \u001b[39m\u001b[38;5;124m\"\u001b[39m\n\u001b[1;32m    121\u001b[0m         \u001b[38;5;124m\"\u001b[39m\u001b[38;5;124mAuthority would typically be in a format of \u001b[39m\u001b[38;5;124m\"\u001b[39m\n\u001b[1;32m    122\u001b[0m         \u001b[38;5;124m\"\u001b[39m\u001b[38;5;124mhttps://login.microsoftonline.com/your_tenant \u001b[39m\u001b[38;5;124m\"\u001b[39m\n\u001b[1;32m    123\u001b[0m         \u001b[38;5;124m\"\u001b[39m\u001b[38;5;124mAlso please double check your tenant name or GUID is correct.\u001b[39m\u001b[38;5;124m\"\u001b[39m\u001b[38;5;241m.\u001b[39mformat(\n\u001b[1;32m    124\u001b[0m         authority_url))\n\u001b[1;32m    125\u001b[0m logger\u001b[38;5;241m.\u001b[39mdebug(\u001b[38;5;124m\"\u001b[39m\u001b[38;5;124mopenid_config = \u001b[39m\u001b[38;5;132;01m%s\u001b[39;00m\u001b[38;5;124m\"\u001b[39m, openid_config)\n\u001b[1;32m    126\u001b[0m \u001b[38;5;28mself\u001b[39m\u001b[38;5;241m.\u001b[39mauthorization_endpoint \u001b[38;5;241m=\u001b[39m openid_config[\u001b[38;5;124m'\u001b[39m\u001b[38;5;124mauthorization_endpoint\u001b[39m\u001b[38;5;124m'\u001b[39m]\n",
      "\u001b[0;31mValueError\u001b[0m: Unable to get authority configuration for https://login.microsoftonline.com/XXXXXXXXXXXxxxxx. Authority would typically be in a format of https://login.microsoftonline.com/your_tenant Also please double check your tenant name or GUID is correct."
     ]
    }
   ],
   "source": [
    "# ----------- CONFIGURATION ----------- #\n",
    "client_id = '<YOUR_CLIENT_ID>'\n",
    "client_secret = '<YOUR_CLIENT_SECRET>'\n",
    "tenant_id = '<YOUR_TENANT_ID>'\n",
    "workspace_id = '<YOUR_WORKSPACE_ID>'\n",
    "\n",
    "authority = f\"https://login.microsoftonline.com/{tenant_id}\"\n",
    "scope = [\"https://analysis.windows.net/powerbi/api/.default\"]\n",
    "api_base = \"https://api.powerbi.com/v1.0/myorg\"\n",
    "api_base1 = \"https://api.fabric.microsoft.com/v1/workspaces\"\n",
    "#\"https://api.fabric.microsoft.com/v1/workspaces/{workspaceId}/notebooks\"\n",
    "\n",
    "# ----------- AUTHENTICATION ----------- #\n",
    "app = msal.ConfidentialClientApplication(\n",
    "    client_id, authority=authority, client_credential=client_secret\n",
    ")\n",
    "token_result = app.acquire_token_for_client(scopes=scope)\n",
    "access_token = token_result['access_token']\n",
    "headers = {\"Authorization\": f\"Bearer {access_token}\"}\n",
    "fabric_artifacts = {\"notebooks\", \"dataPipelines\"}\n",
    "\n",
    "# ----------- HELPER FUNCTION ----------- #\n",
    "def get_artifacts(endpoint, artifact_type):\n",
    "    if artifact_type in fabric_artifacts:\n",
    "        response = requests.get(f\"{api_base1}/{workspace_id}/{endpoint}\", headers=headers)\n",
    "    else:\n",
    "        response = requests.get(f\"{api_base}/groups/{workspace_id}/{endpoint}\", headers=headers)\n",
    "\n",
    "    response.raise_for_status()\n",
    "    data = response.json().get('value', [])\n",
    "\n",
    "    if artifact_type in fabric_artifacts:\n",
    "        return [\n",
    "            {\n",
    "                \"artifact_type\": artifact_type,\n",
    "                \"name\": item.get(\"displayName\"),\n",
    "                \"id\": item.get(\"id\"),\n",
    "                \"webUrl\": item.get(\"webUrl\", \"\"),\n",
    "                \"createdBy\": item.get(\"createdBy\", {}).get(\"email\", \"\")\n",
    "            } \n",
    "            for item in data\n",
    "            ]\n",
    "    else:    \n",
    "        return [\n",
    "            {\n",
    "                \"artifact_type\": artifact_type,\n",
    "                \"name\": item.get(\"name\"),\n",
    "                \"id\": item.get(\"id\"),\n",
    "                \"webUrl\": item.get(\"webUrl\", \"\"),\n",
    "                \"createdBy\": item.get(\"createdBy\", {}).get(\"email\", \"\")\n",
    "            }\n",
    "            for item in data\n",
    "        ]\n",
    "\n",
    "# ----------- FETCH ARTIFACTS ----------- #\n",
    "all_artifacts = []\n",
    "all_artifacts += get_artifacts(\"datasets\", \"Dataset\")\n",
    "all_artifacts += get_artifacts(\"reports\", \"Report\")\n",
    "all_artifacts += get_artifacts(\"dashboards\", \"Dashboard\")\n",
    "all_artifacts += get_artifacts(\"dataflows\", \"Dataflow\")\n",
    "all_artifacts += get_artifacts(\"notebooks\", \"notebooks\")\n",
    "all_artifacts += get_artifacts(\"dataPipelines\", \"dataPipelines\")\n",
    "# all_artifacts += get_artifacts(\"scorecards\", \"Scorecard\")  # optional\n",
    "\n",
    "# ----------- CREATE DATAFRAME ----------- #\n",
    "df_artifacts = pd.DataFrame(all_artifacts)\n",
    "\n",
    "# ----------- DISPLAY DATA ----------- #\n",
    "print(df_artifacts)\n",
    "spark_df = spark.createDataFrame(df_artifacts)\n",
    "spark_df = spark.createDataFrame(df_artifacts.astype(str))\n",
    "spark_df.write.mode(\"overwrite\").option(\"mergeSchema\", \"true\").format(\"delta\").saveAsTable(\"power_bi_artifacts\")\n"
   ]
  }
 ],
 "metadata": {
  "dependencies": {},
  "kernel_info": {
   "name": "synapse_pyspark"
  },
  "kernelspec": {
   "display_name": "synapse_pyspark",
   "name": "synapse_pyspark"
  },
  "language_info": {
   "name": "python"
  },
  "microsoft": {
   "language": "python",
   "language_group": "synapse_pyspark",
   "ms_spell_check": {
    "ms_spell_check_language": "en"
   }
  },
  "nteract": {
   "version": "nteract-front-end@1.0.0"
  },
  "spark_compute": {
   "compute_id": "/trident/default",
   "session_options": {
    "conf": {
     "spark.synapse.nbs.session.timeout": "1200000"
    }
   }
  }
 },
 "nbformat": 4,
 "nbformat_minor": 5
}
